{
  "nbformat": 4,
  "nbformat_minor": 0,
  "metadata": {
    "colab": {
      "name": "Datos_compras.ipynb",
      "provenance": [],
      "toc_visible": true,
      "authorship_tag": "ABX9TyPL7l45CmrFqvx0H467xEZA",
      "include_colab_link": true
    },
    "kernelspec": {
      "name": "python3",
      "display_name": "Python 3"
    },
    "language_info": {
      "name": "python"
    }
  },
  "cells": [
    {
      "cell_type": "markdown",
      "metadata": {
        "id": "view-in-github",
        "colab_type": "text"
      },
      "source": [
        "<a href=\"https://colab.research.google.com/github/WilsonRock/django2/blob/main/Datos_compras.ipynb\" target=\"_parent\"><img src=\"https://colab.research.google.com/assets/colab-badge.svg\" alt=\"Open In Colab\"/></a>"
      ]
    },
    {
      "cell_type": "code",
      "metadata": {
        "colab": {
          "base_uri": "https://localhost:8080/"
        },
        "id": "C5PFNtWdh-TA",
        "outputId": "ec237e47-3401-447a-b13a-f7b6ff845599"
      },
      "source": [
        "import pandas as pd\n",
        "import numpy as np\n",
        "%matplotlib\n",
        "import matplotlib.pyplot as plt\n"
      ],
      "execution_count": 1,
      "outputs": [
        {
          "output_type": "stream",
          "text": [
            "Using matplotlib backend: agg\n"
          ],
          "name": "stdout"
        }
      ]
    },
    {
      "cell_type": "code",
      "metadata": {
        "id": "Mjz31QJziey0"
      },
      "source": [
        "data = pd.read_csv(\"/content/a.csv\")"
      ],
      "execution_count": 5,
      "outputs": []
    },
    {
      "cell_type": "markdown",
      "metadata": {
        "id": "bLqGXzLviCAb"
      },
      "source": [
        ""
      ]
    },
    {
      "cell_type": "code",
      "metadata": {
        "colab": {
          "base_uri": "https://localhost:8080/"
        },
        "id": "h32WObFzlyXp",
        "outputId": "44590b75-a6e2-475c-db42-5c667905a125"
      },
      "source": [
        "data.columns"
      ],
      "execution_count": 9,
      "outputs": [
        {
          "output_type": "execute_result",
          "data": {
            "text/plain": [
              "Index(['Nombre', 'MetaData__Variable__Nombre', 'MetaData__Variable__Codigo',\n",
              "       'MetaData__Nombre', 'MetaData__Codigo', 'Data__Valor'],\n",
              "      dtype='object')"
            ]
          },
          "metadata": {
            "tags": []
          },
          "execution_count": 9
        }
      ]
    },
    {
      "cell_type": "code",
      "metadata": {
        "colab": {
          "base_uri": "https://localhost:8080/"
        },
        "id": "ZL3nDJJ_mX3n",
        "outputId": "c2d9fa7a-8cd8-4c33-a144-9c93dbaef36f"
      },
      "source": [
        "pd.unique(data['Nombre'])"
      ],
      "execution_count": 14,
      "outputs": [
        {
          "output_type": "execute_result",
          "data": {
            "text/plain": [
              "array(['AMBOS SEXOS, Total, Total', nan,\n",
              "       'AMBOS SEXOS, Total, Peso insuficiente',\n",
              "       'AMBOS SEXOS, Total, Normopeso', 'AMBOS SEXOS, Total, Sobrepeso',\n",
              "       'AMBOS SEXOS, Total, Obesidad',\n",
              "       'AMBOS SEXOS, De 2 a 4 años, Total',\n",
              "       'AMBOS SEXOS, De 2 a 4 años, Peso insuficiente',\n",
              "       'AMBOS SEXOS, De 2 a 4 años, Normopeso',\n",
              "       'AMBOS SEXOS, De 2 a 4 años, Sobrepeso',\n",
              "       'AMBOS SEXOS, De 2 a 4 años, Obesidad',\n",
              "       'AMBOS SEXOS, De 5 a 9 años, Total',\n",
              "       'AMBOS SEXOS, De 5 a 9 años, Peso insuficiente',\n",
              "       'AMBOS SEXOS, De 5 a 9 años, Normopeso',\n",
              "       'AMBOS SEXOS, De 5 a 9 años, Sobrepeso',\n",
              "       'AMBOS SEXOS, De 5 a 9 años, Obesidad',\n",
              "       'AMBOS SEXOS, De 10 a 14 años, Total',\n",
              "       'AMBOS SEXOS, De 10 a 14 años, Peso insuficiente',\n",
              "       'AMBOS SEXOS, De 10 a 14 años, Normopeso',\n",
              "       'AMBOS SEXOS, De 10 a 14 años, Sobrepeso',\n",
              "       'AMBOS SEXOS, De 10 a 14 años, Obesidad',\n",
              "       'AMBOS SEXOS, De 15 a 17 años, Total',\n",
              "       'AMBOS SEXOS, De 15 a 17 años, Peso insuficiente',\n",
              "       'AMBOS SEXOS, De 15 a 17 años, Normopeso',\n",
              "       'AMBOS SEXOS, De 15 a 17 años, Sobrepeso',\n",
              "       'AMBOS SEXOS, De 15 a 17 años, Obesidad', 'HOMBRES, Total, Total',\n",
              "       'HOMBRES, Total, Peso insuficiente', 'HOMBRES, Total, Normopeso',\n",
              "       'HOMBRES, Total, Sobrepeso', 'HOMBRES, Total, Obesidad',\n",
              "       'HOMBRES, De 2 a 4 años, Total',\n",
              "       'HOMBRES, De 2 a 4 años, Peso insuficiente',\n",
              "       'HOMBRES, De 2 a 4 años, Normopeso',\n",
              "       'HOMBRES, De 2 a 4 años, Sobrepeso',\n",
              "       'HOMBRES, De 2 a 4 años, Obesidad',\n",
              "       'HOMBRES, De 5 a 9 años, Total',\n",
              "       'HOMBRES, De 5 a 9 años, Peso insuficiente',\n",
              "       'HOMBRES, De 5 a 9 años, Normopeso',\n",
              "       'HOMBRES, De 5 a 9 años, Sobrepeso',\n",
              "       'HOMBRES, De 5 a 9 años, Obesidad',\n",
              "       'HOMBRES, De 10 a 14 años, Total',\n",
              "       'HOMBRES, De 10 a 14 años, Peso insuficiente',\n",
              "       'HOMBRES, De 10 a 14 años, Normopeso',\n",
              "       'HOMBRES, De 10 a 14 años, Sobrepeso',\n",
              "       'HOMBRES, De 10 a 14 años, Obesidad',\n",
              "       'HOMBRES, De 15 a 17 años, Total',\n",
              "       'HOMBRES, De 15 a 17 años, Peso insuficiente',\n",
              "       'HOMBRES, De 15 a 17 años, Normopeso',\n",
              "       'HOMBRES, De 15 a 17 años, Sobrepeso',\n",
              "       'HOMBRES, De 15 a 17 años, Obesidad', 'MUJERES, Total, Total',\n",
              "       'MUJERES, Total, Peso insuficiente', 'MUJERES, Total, Normopeso',\n",
              "       'MUJERES, Total, Sobrepeso', 'MUJERES, Total, Obesidad',\n",
              "       'MUJERES, De 2 a 4 años, Total',\n",
              "       'MUJERES, De 2 a 4 años, Peso insuficiente',\n",
              "       'MUJERES, De 2 a 4 años, Normopeso',\n",
              "       'MUJERES, De 2 a 4 años, Sobrepeso',\n",
              "       'MUJERES, De 2 a 4 años, Obesidad',\n",
              "       'MUJERES, De 5 a 9 años, Total',\n",
              "       'MUJERES, De 5 a 9 años, Peso insuficiente',\n",
              "       'MUJERES, De 5 a 9 años, Normopeso',\n",
              "       'MUJERES, De 5 a 9 años, Sobrepeso',\n",
              "       'MUJERES, De 5 a 9 años, Obesidad',\n",
              "       'MUJERES, De 10 a 14 años, Total',\n",
              "       'MUJERES, De 10 a 14 años, Peso insuficiente',\n",
              "       'MUJERES, De 10 a 14 años, Normopeso',\n",
              "       'MUJERES, De 10 a 14 años, Sobrepeso',\n",
              "       'MUJERES, De 10 a 14 años, Obesidad',\n",
              "       'MUJERES, De 15 a 17 años, Total',\n",
              "       'MUJERES, De 15 a 17 años, Peso insuficiente',\n",
              "       'MUJERES, De 15 a 17 años, Normopeso',\n",
              "       'MUJERES, De 15 a 17 años, Sobrepeso',\n",
              "       'MUJERES, De 15 a 17 años, Obesidad'], dtype=object)"
            ]
          },
          "metadata": {
            "tags": []
          },
          "execution_count": 14
        }
      ]
    },
    {
      "cell_type": "code",
      "metadata": {
        "id": "Cuvw24hwrC2q"
      },
      "source": [
        "from google.colab import drive\n",
        "drive.mount('/content/drive')"
      ],
      "execution_count": null,
      "outputs": []
    }
  ]
}